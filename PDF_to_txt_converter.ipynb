{
  "nbformat": 4,
  "nbformat_minor": 0,
  "metadata": {
    "colab": {
      "provenance": [],
      "authorship_tag": "ABX9TyO+E9yqWBEXiDSSwNtJ4wlJ",
      "include_colab_link": true
    },
    "kernelspec": {
      "name": "python3",
      "display_name": "Python 3"
    },
    "language_info": {
      "name": "python"
    }
  },
  "cells": [
    {
      "cell_type": "markdown",
      "metadata": {
        "id": "view-in-github",
        "colab_type": "text"
      },
      "source": [
        "<a href=\"https://colab.research.google.com/github/PopoolaIbrahim/PDF-to-Video/blob/main/PDF_to_txt_converter.ipynb\" target=\"_parent\"><img src=\"https://colab.research.google.com/assets/colab-badge.svg\" alt=\"Open In Colab\"/></a>"
      ]
    },
    {
      "cell_type": "code",
      "execution_count": null,
      "metadata": {
        "colab": {
          "base_uri": "https://localhost:8080/"
        },
        "id": "XxI2mjeW22gF",
        "outputId": "c837d967-97dd-4ba0-b951-b3c14399d342"
      },
      "outputs": [
        {
          "output_type": "stream",
          "name": "stdout",
          "text": [
            "Looking in indexes: https://pypi.org/simple, https://us-python.pkg.dev/colab-wheels/public/simple/\n",
            "Requirement already satisfied: PyMuPDF in /usr/local/lib/python3.9/dist-packages (1.21.1)\n"
          ]
        }
      ],
      "source": [
        "!pip install PyMuPDF\n",
        "import fitz  # this is pymupdf\n",
        "#num = 1\n",
        "#while num <= 498 :\n",
        "doc = fitz.open(\"/content/EDU421.pdf\")\n",
        "for page in doc:\n",
        "    txt_file = '/content/PDF_' + str(page.number) + '.txt'\n",
        "    text = page.get_text()\n",
        "    txt_doc = open(txt_file, 'w', encoding='utf-8')\n",
        "    txt_doc.write(text)\n",
        "    txt_doc.close()\n",
        "    #num = num + 1"
      ]
    }
  ]
}